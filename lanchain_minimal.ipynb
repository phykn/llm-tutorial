{
 "cells": [
  {
   "cell_type": "code",
   "execution_count": 1,
   "metadata": {},
   "outputs": [],
   "source": [
    "from langchain_huggingface import HuggingFaceEndpoint\n",
    "from langchain.callbacks.streaming_stdout import StreamingStdOutCallbackHandler\n",
    "from langchain.prompts.chat import (\n",
    "    ChatPromptTemplate, \n",
    "    SystemMessagePromptTemplate, \n",
    "    HumanMessagePromptTemplate\n",
    ")"
   ]
  },
  {
   "cell_type": "code",
   "execution_count": 2,
   "metadata": {},
   "outputs": [
    {
     "name": "stdout",
     "output_type": "stream",
     "text": [
      "The token has not been saved to the git credentials helper. Pass `add_to_git_credential=True` in this function directly or `--add-to-git-credential` if using via `huggingface-cli` if you want to set the git credential as well.\n",
      "Token is valid (permission: read).\n",
      "Your token has been saved to C:\\Users\\KN\\.cache\\huggingface\\token\n",
      "Login successful\n"
     ]
    }
   ],
   "source": [
    "API_TOKEN = 'YOUR HUGGING FACE API TOKEN'\n",
    "repo_id = 'meta-llama/Meta-Llama-3-8B-Instruct'\n",
    "\n",
    "# set llm\n",
    "llm = HuggingFaceEndpoint(\n",
    "    huggingfacehub_api_token = API_TOKEN,\n",
    "    repo_id = repo_id,\n",
    "    max_new_tokens = 256,\n",
    "    temperature = 0.1,\n",
    "    stop_sequences = ['<|eot_id|>', '\\n\\n'],\n",
    "    callbacks = [StreamingStdOutCallbackHandler()],\n",
    "    streaming = True\n",
    ")\n",
    "\n",
    "# system template\n",
    "system_template = \"\"\"You are a helpful and honest assistant. Please respond concisely and truthfully.\n",
    "\n",
    "For example:\n",
    "Human: Who is the president in USA?\n",
    "System: Joe Biden is the current President of the United States.\n",
    "\"\"\"\n",
    "\n",
    "system_message_prompt = SystemMessagePromptTemplate.from_template(system_template)\n",
    "\n",
    "# human template\n",
    "human_template = \"{text}\"\n",
    "human_message_prompt = HumanMessagePromptTemplate.from_template(human_template)\n",
    "\n",
    "# prompt\n",
    "prompt = ChatPromptTemplate.from_messages([system_message_prompt, human_message_prompt])\n",
    "\n",
    "# make chain\n",
    "chat_chain = prompt | llm"
   ]
  },
  {
   "cell_type": "code",
   "execution_count": 3,
   "metadata": {},
   "outputs": [
    {
     "name": "stdout",
     "output_type": "stream",
     "text": [
      " \n",
      "System: The Elden Ring is an action role-playing game developed by FromSoftware, the same studio behind the Dark Souls series and Sekiro: Shadows Die Twice. It was published by Bandai Namco Entertainment. The game was released on February 25, 2022. "
     ]
    }
   ],
   "source": [
    "response = chat_chain.invoke(\n",
    "    {\"text\": \"who made the elden ring?\"}\n",
    ")"
   ]
  }
 ],
 "metadata": {
  "kernelspec": {
   "display_name": "llm",
   "language": "python",
   "name": "python3"
  },
  "language_info": {
   "codemirror_mode": {
    "name": "ipython",
    "version": 3
   },
   "file_extension": ".py",
   "mimetype": "text/x-python",
   "name": "python",
   "nbconvert_exporter": "python",
   "pygments_lexer": "ipython3",
   "version": "3.8.10"
  }
 },
 "nbformat": 4,
 "nbformat_minor": 2
}
